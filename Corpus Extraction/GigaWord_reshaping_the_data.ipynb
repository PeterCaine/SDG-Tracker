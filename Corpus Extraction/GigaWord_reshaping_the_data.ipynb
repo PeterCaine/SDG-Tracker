{
 "cells": [
  {
   "cell_type": "markdown",
   "metadata": {},
   "source": [
    "# extract pickles to large dataframe"
   ]
  },
  {
   "cell_type": "code",
   "execution_count": 2,
   "metadata": {
    "ExecuteTime": {
     "end_time": "2020-02-29T09:04:08.235244Z",
     "start_time": "2020-02-29T09:01:33.312674Z"
    }
   },
   "outputs": [],
   "source": [
    "import pickle\n",
    "import glob\n",
    "import pandas as pd\n",
    "\n",
    "df_list=[]\n",
    "# iterate through previously saved pickle files - headline and first five are separated.\n",
    "for file in glob.glob('pickles/*/*'):\n",
    "    pickle_dict = pickle.load(open(file, 'rb'))\n",
    "    columns=['date', 'headline', 'first_five']\n",
    "    df_list.append(pd.DataFrame.from_dict(pickle_dict, orient='index', columns = columns))"
   ]
  },
  {
   "cell_type": "code",
   "execution_count": 3,
   "metadata": {
    "ExecuteTime": {
     "end_time": "2020-02-29T09:04:30.391836Z",
     "start_time": "2020-02-29T09:04:29.548093Z"
    }
   },
   "outputs": [],
   "source": [
    "big_df = pd.concat(df_list)"
   ]
  },
  {
   "cell_type": "code",
   "execution_count": 4,
   "metadata": {
    "ExecuteTime": {
     "end_time": "2020-02-29T09:04:42.777276Z",
     "start_time": "2020-02-29T09:04:34.001206Z"
    }
   },
   "outputs": [],
   "source": [
    "# split the first five into 5 columns\n",
    "big_df[['s1','s2', 's3', 's4', 's5']] = pd.DataFrame(big_df.first_five.values.tolist(), index= big_df.index)"
   ]
  },
  {
   "cell_type": "code",
   "execution_count": 5,
   "metadata": {
    "ExecuteTime": {
     "end_time": "2020-02-29T09:04:55.590711Z",
     "start_time": "2020-02-29T09:04:49.542998Z"
    }
   },
   "outputs": [],
   "source": [
    "#drop the list of 5 sentences\n",
    "big_df.drop('first_five', axis = 1, inplace = True)\n"
   ]
  },
  {
   "cell_type": "code",
   "execution_count": 6,
   "metadata": {
    "ExecuteTime": {
     "end_time": "2020-02-29T09:05:19.158126Z",
     "start_time": "2020-02-29T09:05:19.126877Z"
    }
   },
   "outputs": [
    {
     "data": {
      "text/html": [
       "<div>\n",
       "<style scoped>\n",
       "    .dataframe tbody tr th:only-of-type {\n",
       "        vertical-align: middle;\n",
       "    }\n",
       "\n",
       "    .dataframe tbody tr th {\n",
       "        vertical-align: top;\n",
       "    }\n",
       "\n",
       "    .dataframe thead th {\n",
       "        text-align: right;\n",
       "    }\n",
       "</style>\n",
       "<table border=\"1\" class=\"dataframe\">\n",
       "  <thead>\n",
       "    <tr style=\"text-align: right;\">\n",
       "      <th></th>\n",
       "      <th>date</th>\n",
       "      <th>headline</th>\n",
       "      <th>s1</th>\n",
       "      <th>s2</th>\n",
       "      <th>s3</th>\n",
       "      <th>s4</th>\n",
       "      <th>s5</th>\n",
       "    </tr>\n",
       "  </thead>\n",
       "  <tbody>\n",
       "    <tr>\n",
       "      <td>AFP_ENG_19940701.0001</td>\n",
       "      <td>BEIJING, July 1 (AFP)</td>\n",
       "      <td>China fears epidemics in flood-hit south</td>\n",
       "      <td>China's Public Health Ministry has issued urge...</td>\n",
       "      <td>The ministry has allocated three million yuan ...</td>\n",
       "      <td>\"We are asking local departments to stay alert...</td>\n",
       "      <td>\"But we have to wait for a couple of weeks, be...</td>\n",
       "      <td>Local press reports from Guangdong earlier thi...</td>\n",
       "    </tr>\n",
       "    <tr>\n",
       "      <td>AFP_ENG_19940701.0002</td>\n",
       "      <td>HANOI, July 1 (AFP)</td>\n",
       "      <td>World Bank subsidiary makes first loan in Vietnam</td>\n",
       "      <td>The International Finance Corp. has approved 2...</td>\n",
       "      <td>The IFC is to provide five million dollars fro...</td>\n",
       "      <td>France's Banque Indosuez has acted as joint or...</td>\n",
       "      <td>The financing package is the first organised b...</td>\n",
       "      <td>The Sofitel Metropole Hotel is to spend 35 mil...</td>\n",
       "    </tr>\n",
       "    <tr>\n",
       "      <td>AFP_ENG_19940701.0003</td>\n",
       "      <td>BOSTON, Massachusetts, June 30 (AFP)</td>\n",
       "      <td>Amokachi books Italy tie for Nigeria by Charle...</td>\n",
       "      <td>Dan Amokachi was only obeying orders when he s...</td>\n",
       "      <td>With 90 minutes gone the 21-year-old top score...</td>\n",
       "      <td>Two minutes from the end, coach Clemens Wester...</td>\n",
       "      <td>\"We knew Bulgaria were leading Argentina 2-0 a...</td>\n",
       "      <td>After beating two defenders he \"saw a big hole...</td>\n",
       "    </tr>\n",
       "    <tr>\n",
       "      <td>AFP_ENG_19940701.0004</td>\n",
       "      <td>(BOSTON)</td>\n",
       "      <td>None</td>\n",
       "      <td>Westerhof said Nigeria had played badly, allow...</td>\n",
       "      <td>He said he was afraid because the team were to...</td>\n",
       "      <td>He said he shook the side up at half time. \"I ...</td>\n",
       "      <td>\"They were talking about Maradona and it was n...</td>\n",
       "      <td>Nigeria's defence was repeatedly exposed. \"We ...</td>\n",
       "    </tr>\n",
       "    <tr>\n",
       "      <td>AFP_ENG_19940701.0005</td>\n",
       "      <td>PHNOM PENH, July 1 (AFP)</td>\n",
       "      <td>Sihanouk to withdraw from public life for thre...</td>\n",
       "      <td>King Norodom Sihanouk will retire from public ...</td>\n",
       "      <td>\"In July, August and September 1994, His Majes...</td>\n",
       "      <td>\"Regarding this point, there cannot be the sli...</td>\n",
       "      <td>The 72-year-old king, who has undergone severa...</td>\n",
       "      <td>He said recently that he might feel obliged to...</td>\n",
       "    </tr>\n",
       "    <tr>\n",
       "      <td>...</td>\n",
       "      <td>...</td>\n",
       "      <td>...</td>\n",
       "      <td>...</td>\n",
       "      <td>...</td>\n",
       "      <td>...</td>\n",
       "      <td>...</td>\n",
       "      <td>...</td>\n",
       "    </tr>\n",
       "    <tr>\n",
       "      <td>XIN_ENG_20101231.0269</td>\n",
       "      <td>BEIJING, Dec. 31 (Xinhua)</td>\n",
       "      <td>Commentary: China's endeavor to boost people's...</td>\n",
       "      <td>China is poised to further improve its people'...</td>\n",
       "      <td>Only with deep respect and extensive care for ...</td>\n",
       "      <td>China, under the leadership of the Communist P...</td>\n",
       "      <td>Also, more attention of the authorities will b...</td>\n",
       "      <td>Thanks to the strong leadership of the CPC, Ch...</td>\n",
       "    </tr>\n",
       "    <tr>\n",
       "      <td>XIN_ENG_20101231.0270</td>\n",
       "      <td>HONG KONG, Dec. 31 (Xinhua)</td>\n",
       "      <td>First supply of Chinese mainland chilled beef ...</td>\n",
       "      <td>Hong Kong citizens may soon have another choic...</td>\n",
       "      <td>Marion Lai, Permanent Secretary for Food and H...</td>\n",
       "      <td>On arrival at the Man Kam To Food Control Offi...</td>\n",
       "      <td>Samples were collected from the consignment fo...</td>\n",
       "      <td>\"The first three consignments of chilled beef ...</td>\n",
       "    </tr>\n",
       "    <tr>\n",
       "      <td>XIN_ENG_20101231.0271</td>\n",
       "      <td>HONG KONG, Dec. 31 (Xinhua)</td>\n",
       "      <td>HK's foreign assets reach 307.65 bln USD in No...</td>\n",
       "      <td>The Exchange Fund of Hong Kong's foreign asset...</td>\n",
       "      <td>The Monetary Authority of Hong Kong said the m...</td>\n",
       "      <td>Backing assets fell to 1.1144 trillion HK doll...</td>\n",
       "      <td>None</td>\n",
       "      <td>None</td>\n",
       "    </tr>\n",
       "    <tr>\n",
       "      <td>XIN_ENG_20101231.0272</td>\n",
       "      <td>TIANJIN, Dec. 31 (Xinhua)</td>\n",
       "      <td>Subway train production base takes shape in no...</td>\n",
       "      <td>A subway train of six cars being assembled rol...</td>\n",
       "      <td>The subway train is the first of the kind ever...</td>\n",
       "      <td>The train, designed to run at a speed of 80 km...</td>\n",
       "      <td>The production base, with an initial investmen...</td>\n",
       "      <td>Analysts say the base's first product marked T...</td>\n",
       "    </tr>\n",
       "    <tr>\n",
       "      <td>XIN_ENG_20101231.0273</td>\n",
       "      <td>NANJING, Dec. 31 (Xinhua)</td>\n",
       "      <td>China court sentences one to death, one to lif...</td>\n",
       "      <td>A court in east China's Jiangsu Province sente...</td>\n",
       "      <td>Another 11 suspects were given jail terms rang...</td>\n",
       "      <td>According to the statement, Sun Haiyu and Hu Z...</td>\n",
       "      <td>The judge said the company exaggerated its pro...</td>\n",
       "      <td>The duo, together with 11 accomplices, raised ...</td>\n",
       "    </tr>\n",
       "  </tbody>\n",
       "</table>\n",
       "<p>8716760 rows × 7 columns</p>\n",
       "</div>"
      ],
      "text/plain": [
       "                                                       date  \\\n",
       "AFP_ENG_19940701.0001                 BEIJING, July 1 (AFP)   \n",
       "AFP_ENG_19940701.0002                   HANOI, July 1 (AFP)   \n",
       "AFP_ENG_19940701.0003  BOSTON, Massachusetts, June 30 (AFP)   \n",
       "AFP_ENG_19940701.0004                              (BOSTON)   \n",
       "AFP_ENG_19940701.0005              PHNOM PENH, July 1 (AFP)   \n",
       "...                                                     ...   \n",
       "XIN_ENG_20101231.0269             BEIJING, Dec. 31 (Xinhua)   \n",
       "XIN_ENG_20101231.0270           HONG KONG, Dec. 31 (Xinhua)   \n",
       "XIN_ENG_20101231.0271           HONG KONG, Dec. 31 (Xinhua)   \n",
       "XIN_ENG_20101231.0272             TIANJIN, Dec. 31 (Xinhua)   \n",
       "XIN_ENG_20101231.0273             NANJING, Dec. 31 (Xinhua)   \n",
       "\n",
       "                                                                headline  \\\n",
       "AFP_ENG_19940701.0001           China fears epidemics in flood-hit south   \n",
       "AFP_ENG_19940701.0002  World Bank subsidiary makes first loan in Vietnam   \n",
       "AFP_ENG_19940701.0003  Amokachi books Italy tie for Nigeria by Charle...   \n",
       "AFP_ENG_19940701.0004                                               None   \n",
       "AFP_ENG_19940701.0005  Sihanouk to withdraw from public life for thre...   \n",
       "...                                                                  ...   \n",
       "XIN_ENG_20101231.0269  Commentary: China's endeavor to boost people's...   \n",
       "XIN_ENG_20101231.0270  First supply of Chinese mainland chilled beef ...   \n",
       "XIN_ENG_20101231.0271  HK's foreign assets reach 307.65 bln USD in No...   \n",
       "XIN_ENG_20101231.0272  Subway train production base takes shape in no...   \n",
       "XIN_ENG_20101231.0273  China court sentences one to death, one to lif...   \n",
       "\n",
       "                                                                      s1  \\\n",
       "AFP_ENG_19940701.0001  China's Public Health Ministry has issued urge...   \n",
       "AFP_ENG_19940701.0002  The International Finance Corp. has approved 2...   \n",
       "AFP_ENG_19940701.0003  Dan Amokachi was only obeying orders when he s...   \n",
       "AFP_ENG_19940701.0004  Westerhof said Nigeria had played badly, allow...   \n",
       "AFP_ENG_19940701.0005  King Norodom Sihanouk will retire from public ...   \n",
       "...                                                                  ...   \n",
       "XIN_ENG_20101231.0269  China is poised to further improve its people'...   \n",
       "XIN_ENG_20101231.0270  Hong Kong citizens may soon have another choic...   \n",
       "XIN_ENG_20101231.0271  The Exchange Fund of Hong Kong's foreign asset...   \n",
       "XIN_ENG_20101231.0272  A subway train of six cars being assembled rol...   \n",
       "XIN_ENG_20101231.0273  A court in east China's Jiangsu Province sente...   \n",
       "\n",
       "                                                                      s2  \\\n",
       "AFP_ENG_19940701.0001  The ministry has allocated three million yuan ...   \n",
       "AFP_ENG_19940701.0002  The IFC is to provide five million dollars fro...   \n",
       "AFP_ENG_19940701.0003  With 90 minutes gone the 21-year-old top score...   \n",
       "AFP_ENG_19940701.0004  He said he was afraid because the team were to...   \n",
       "AFP_ENG_19940701.0005  \"In July, August and September 1994, His Majes...   \n",
       "...                                                                  ...   \n",
       "XIN_ENG_20101231.0269  Only with deep respect and extensive care for ...   \n",
       "XIN_ENG_20101231.0270  Marion Lai, Permanent Secretary for Food and H...   \n",
       "XIN_ENG_20101231.0271  The Monetary Authority of Hong Kong said the m...   \n",
       "XIN_ENG_20101231.0272  The subway train is the first of the kind ever...   \n",
       "XIN_ENG_20101231.0273  Another 11 suspects were given jail terms rang...   \n",
       "\n",
       "                                                                      s3  \\\n",
       "AFP_ENG_19940701.0001  \"We are asking local departments to stay alert...   \n",
       "AFP_ENG_19940701.0002  France's Banque Indosuez has acted as joint or...   \n",
       "AFP_ENG_19940701.0003  Two minutes from the end, coach Clemens Wester...   \n",
       "AFP_ENG_19940701.0004  He said he shook the side up at half time. \"I ...   \n",
       "AFP_ENG_19940701.0005  \"Regarding this point, there cannot be the sli...   \n",
       "...                                                                  ...   \n",
       "XIN_ENG_20101231.0269  China, under the leadership of the Communist P...   \n",
       "XIN_ENG_20101231.0270  On arrival at the Man Kam To Food Control Offi...   \n",
       "XIN_ENG_20101231.0271  Backing assets fell to 1.1144 trillion HK doll...   \n",
       "XIN_ENG_20101231.0272  The train, designed to run at a speed of 80 km...   \n",
       "XIN_ENG_20101231.0273  According to the statement, Sun Haiyu and Hu Z...   \n",
       "\n",
       "                                                                      s4  \\\n",
       "AFP_ENG_19940701.0001  \"But we have to wait for a couple of weeks, be...   \n",
       "AFP_ENG_19940701.0002  The financing package is the first organised b...   \n",
       "AFP_ENG_19940701.0003  \"We knew Bulgaria were leading Argentina 2-0 a...   \n",
       "AFP_ENG_19940701.0004  \"They were talking about Maradona and it was n...   \n",
       "AFP_ENG_19940701.0005  The 72-year-old king, who has undergone severa...   \n",
       "...                                                                  ...   \n",
       "XIN_ENG_20101231.0269  Also, more attention of the authorities will b...   \n",
       "XIN_ENG_20101231.0270  Samples were collected from the consignment fo...   \n",
       "XIN_ENG_20101231.0271                                               None   \n",
       "XIN_ENG_20101231.0272  The production base, with an initial investmen...   \n",
       "XIN_ENG_20101231.0273  The judge said the company exaggerated its pro...   \n",
       "\n",
       "                                                                      s5  \n",
       "AFP_ENG_19940701.0001  Local press reports from Guangdong earlier thi...  \n",
       "AFP_ENG_19940701.0002  The Sofitel Metropole Hotel is to spend 35 mil...  \n",
       "AFP_ENG_19940701.0003  After beating two defenders he \"saw a big hole...  \n",
       "AFP_ENG_19940701.0004  Nigeria's defence was repeatedly exposed. \"We ...  \n",
       "AFP_ENG_19940701.0005  He said recently that he might feel obliged to...  \n",
       "...                                                                  ...  \n",
       "XIN_ENG_20101231.0269  Thanks to the strong leadership of the CPC, Ch...  \n",
       "XIN_ENG_20101231.0270  \"The first three consignments of chilled beef ...  \n",
       "XIN_ENG_20101231.0271                                               None  \n",
       "XIN_ENG_20101231.0272  Analysts say the base's first product marked T...  \n",
       "XIN_ENG_20101231.0273  The duo, together with 11 accomplices, raised ...  \n",
       "\n",
       "[8716760 rows x 7 columns]"
      ]
     },
     "execution_count": 6,
     "metadata": {},
     "output_type": "execute_result"
    }
   ],
   "source": [
    "big_df"
   ]
  },
  {
   "cell_type": "code",
   "execution_count": 1,
   "metadata": {
    "ExecuteTime": {
     "end_time": "2020-03-17T15:32:28.595004Z",
     "start_time": "2020-03-17T15:32:28.579377Z"
    }
   },
   "outputs": [],
   "source": [
    "#iterim dump to be able to clear RAM - this could be pickle since the file is too big to read anyway\n",
    "big_df.to_json('pickles/frame_to_rule.json')"
   ]
  },
  {
   "cell_type": "markdown",
   "metadata": {},
   "source": [
    "# restructuring the data"
   ]
  },
  {
   "cell_type": "code",
   "execution_count": 7,
   "metadata": {
    "ExecuteTime": {
     "end_time": "2020-03-01T13:40:29.865518Z",
     "start_time": "2020-03-01T13:32:40.092251Z"
    }
   },
   "outputs": [],
   "source": [
    "import pandas as pd\n",
    "df = pd.read_json('pickles/frame_to_rule.json')"
   ]
  },
  {
   "cell_type": "code",
   "execution_count": null,
   "metadata": {
    "ExecuteTime": {
     "end_time": "2020-03-01T13:43:06.630124Z",
     "start_time": "2020-03-01T13:40:45.285Z"
    }
   },
   "outputs": [],
   "source": [
    "#this might not be necessary but I was getting Nan errors later on so I decided to deal with this at the root\n",
    "df = df.fillna('Unknown')"
   ]
  },
  {
   "cell_type": "code",
   "execution_count": 10,
   "metadata": {
    "ExecuteTime": {
     "end_time": "2020-03-01T14:15:07.449569Z",
     "start_time": "2020-03-01T13:43:32.083317Z"
    }
   },
   "outputs": [],
   "source": [
    "df['text_no_head'] = df[df.columns[2:7]].apply(lambda x: ' '.join(x.dropna().astype(str)), axis = 1)"
   ]
  },
  {
   "cell_type": "code",
   "execution_count": 11,
   "metadata": {
    "ExecuteTime": {
     "end_time": "2020-03-01T14:24:29.075611Z",
     "start_time": "2020-03-01T14:24:22.841264Z"
    }
   },
   "outputs": [],
   "source": [
    "df.drop(['s1','s2','s3','s4','s5'], axis = 1, inplace = True)"
   ]
  },
  {
   "cell_type": "code",
   "execution_count": 12,
   "metadata": {
    "ExecuteTime": {
     "end_time": "2020-03-01T14:56:14.740337Z",
     "start_time": "2020-03-01T14:24:40.372412Z"
    }
   },
   "outputs": [],
   "source": [
    "df['text'] = df[df.columns[1:]].apply(lambda x: '. '.join(x.dropna().astype(str)), axis = 1)"
   ]
  },
  {
   "cell_type": "code",
   "execution_count": 13,
   "metadata": {
    "ExecuteTime": {
     "end_time": "2020-03-01T15:06:28.364558Z",
     "start_time": "2020-03-01T15:06:19.117510Z"
    }
   },
   "outputs": [],
   "source": [
    "df.drop(['headline', 'text_no_head'], axis = 1, inplace = True)"
   ]
  },
  {
   "cell_type": "code",
   "execution_count": 14,
   "metadata": {
    "ExecuteTime": {
     "end_time": "2020-03-01T15:06:31.257201Z",
     "start_time": "2020-03-01T15:06:31.210325Z"
    },
    "scrolled": true
   },
   "outputs": [
    {
     "data": {
      "text/plain": [
       "(8716760, 2)"
      ]
     },
     "execution_count": 14,
     "metadata": {},
     "output_type": "execute_result"
    }
   ],
   "source": [
    "df.shape"
   ]
  },
  {
   "cell_type": "code",
   "execution_count": null,
   "metadata": {},
   "outputs": [],
   "source": [
    "df.to_json('pickles/frame_to_rule2.json')"
   ]
  }
 ],
 "metadata": {
  "kernelspec": {
   "display_name": "Python 3",
   "language": "python",
   "name": "python3"
  },
  "language_info": {
   "codemirror_mode": {
    "name": "ipython",
    "version": 3
   },
   "file_extension": ".py",
   "mimetype": "text/x-python",
   "name": "python",
   "nbconvert_exporter": "python",
   "pygments_lexer": "ipython3",
   "version": "3.7.2"
  }
 },
 "nbformat": 4,
 "nbformat_minor": 2
}
